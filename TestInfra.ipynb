{
 "cells": [
  {
   "cell_type": "code",
   "execution_count": 1,
   "metadata": {},
   "outputs": [],
   "source": [
    "import requests\n",
    "import json\n",
    "import uuid\n",
    "import time\n",
    "signalStation = \"http://biohack.personalhealthtrain.net\"\n",
    "\n",
    "def getStations(signalStation):\n",
    "    response = requests.get(signalStation + \"/client\")\n",
    "    return json.loads(response.text)\n",
    "\n",
    "def defineTrain(image, inputVars, runId):\n",
    "    return {\n",
    "        \"image\": image,\n",
    "        \"inputString\": (\"%s\" % json.dumps(inputVars)),\n",
    "        \"runId\": runId\n",
    "    }\n",
    "\n",
    "def requestExecution(signalStation, clientId, taskDescription):\n",
    "    response = requests.post(signalStation + \"/client/\" + str(clientId) + \"/task/add\", json=taskDescription)\n",
    "    taskId = json.loads(response.text)[\"taskId\"]\n",
    "    return taskId\n",
    "\n",
    "def getExecutionResult(signalStation, clientId, taskId, wait=True):\n",
    "    url = signalStation + \"/client/\" + str(clientId) + \"/task/\" + str(taskId) + \"/result\"\n",
    "    jsonResult = json.loads(requests.get(url).text)\n",
    "    \n",
    "    while len(jsonResult)==0 & wait:\n",
    "        time.sleep(2)\n",
    "        jsonResult = json.loads(requests.get(url).text)\n",
    "    \n",
    "    return jsonResult"
   ]
  },
  {
   "cell_type": "code",
   "execution_count": 2,
   "metadata": {},
   "outputs": [
    {
     "data": {
      "text/plain": [
       "[{'country': 'The Netherlands',\n",
       "  'email': 'j.vansoest@maastrichtuniversity.nl',\n",
       "  'id': 1,\n",
       "  'institute': 'Maastricht University',\n",
       "  'ip': '192.168.176.1',\n",
       "  'last_seen': '2019-09-02 19:14:13.829209',\n",
       "  'name': 'Trusted Secure Environment (TSE)'},\n",
       " {'country': 'The Netherlands',\n",
       "  'email': 'j.vansoest@maastrichtuniversity.nl',\n",
       "  'id': 2,\n",
       "  'institute': 'Maastricht University',\n",
       "  'ip': '192.168.176.1',\n",
       "  'last_seen': '2019-09-02 19:14:17.864963',\n",
       "  'name': 'Data Party A'},\n",
       " {'country': 'The Netherlands',\n",
       "  'email': 'j.vansoest@maastrichtuniversity.nl',\n",
       "  'id': 3,\n",
       "  'institute': 'Maastricht University',\n",
       "  'ip': '192.168.176.1',\n",
       "  'last_seen': '2019-09-02 19:14:14.689868',\n",
       "  'name': 'Data Party B'}]"
      ]
     },
     "execution_count": 2,
     "metadata": {},
     "output_type": "execute_result"
    }
   ],
   "source": [
    "getStations(signalStation)"
   ]
  },
  {
   "cell_type": "markdown",
   "metadata": {},
   "source": [
    "**********************"
   ]
  },
  {
   "cell_type": "markdown",
   "metadata": {},
   "source": [
    "## Data Party 1 ##"
   ]
  },
  {
   "cell_type": "code",
   "execution_count": 36,
   "metadata": {},
   "outputs": [],
   "source": [
    "inputData = {\n",
    "    \"party_name\": \"party_1\", # unique name\n",
    "    \"data_file\": \"https://raw.githubusercontent.com/sunchang0124/BioHackathon2019/localRunning/containers/createContainer/Party_4_Container/data_party_4.csv\", # path of the data \n",
    "    \"salt_text\": \"apple\", # the agreed on salt (all data parties use the same salt)\n",
    "    \"id_feature\": [\"housenum\", \"zipcode\", \"date_of_birth\", \"sex\"] # personal identifier features used for linking purpose\n",
    "}\n",
    "\n",
    "myTrain = defineTrain(\"sophia921025/dataparty:15th\", inputData, 1)\n"
   ]
  },
  {
   "cell_type": "code",
   "execution_count": 37,
   "metadata": {},
   "outputs": [
    {
     "name": "stdout",
     "output_type": "stream",
     "text": [
      "Task submitted with ID: 65\n"
     ]
    }
   ],
   "source": [
    "clientId = 2\n",
    "taskId = requestExecution(signalStation, clientId, myTrain)\n",
    "print(\"Task submitted with ID: %s\" % taskId)"
   ]
  },
  {
   "cell_type": "code",
   "execution_count": 38,
   "metadata": {},
   "outputs": [
    {
     "name": "stdout",
     "output_type": "stream",
     "text": [
      "{'party_1fileUUID': '9bbdaa6d-10a7-4d44-a943-89ab42deaf90', 'party_1encryptKey': 'QmDg6JGJAi5uNkKfRFldTFPuYeIrL2naqHkFaeeFkBo=', 'party_1verifyKey': 'WuO+Oet26ltHZLr9d99ShB/vZpPA3pGYNnbPOvjlW9A='}\n"
     ]
    }
   ],
   "source": [
    "results = getExecutionResult(signalStation, clientId, taskId)\n",
    "# print(results[0])\n",
    "result = json.loads(results[0][\"response\"])\n",
    "print(result)"
   ]
  },
  {
   "cell_type": "markdown",
   "metadata": {},
   "source": [
    "******************"
   ]
  },
  {
   "cell_type": "markdown",
   "metadata": {},
   "source": [
    "## Data Party 2 ##"
   ]
  },
  {
   "cell_type": "code",
   "execution_count": 39,
   "metadata": {},
   "outputs": [],
   "source": [
    "inputData = {\n",
    "    \"party_name\": \"party_4\", # unique name\n",
    "    \"data_file\": \"https://raw.githubusercontent.com/sunchang0124/BioHackathon2019/localRunning/containers/createContainer/Party_4_Container/data_party_4.csv\", # path of the data \n",
    "    \"salt_text\": \"apple\", # the agreed on salt (all data parties use the same salt)\n",
    "    \"id_feature\": [\"housenum\", \"zipcode\", \"date_of_birth\", \"sex\"] # personal identifier features used for linking purpose\n",
    "}\n",
    "\n",
    "myTrain = defineTrain(\"sophia921025/dataparty:15th\", inputData, 1)\n"
   ]
  },
  {
   "cell_type": "code",
   "execution_count": 40,
   "metadata": {},
   "outputs": [
    {
     "name": "stdout",
     "output_type": "stream",
     "text": [
      "Task submitted with ID: 66\n"
     ]
    }
   ],
   "source": [
    "clientId = 3\n",
    "taskId = requestExecution(signalStation, clientId, myTrain)\n",
    "print(\"Task submitted with ID: %s\" % taskId)"
   ]
  },
  {
   "cell_type": "code",
   "execution_count": 41,
   "metadata": {},
   "outputs": [
    {
     "name": "stdout",
     "output_type": "stream",
     "text": [
      "{'party_4fileUUID': 'f8f88836-fd10-4566-ba7a-935feb75b819', 'party_4encryptKey': 'BLwFvl5HJTWFJj1roMW6ojIzx/HtDd5F9VkYCBbx5hQ=', 'party_4verifyKey': 'LZhE/FWpMOD5nT2fxQe+RDeTMqX+WQNJxAxNxRskWpc='}\n"
     ]
    }
   ],
   "source": [
    "results = getExecutionResult(signalStation, clientId, taskId)\n",
    "# print(results[0])\n",
    "result = json.loads(results[0][\"response\"])\n",
    "print(result)"
   ]
  },
  {
   "cell_type": "markdown",
   "metadata": {},
   "source": [
    "## AT TSE ##"
   ]
  },
  {
   "cell_type": "code",
   "execution_count": 42,
   "metadata": {},
   "outputs": [],
   "source": [
    "### AT TSE ###\n",
    "inputData = {\"parties\": [\"party_1\",\"party_4\"],\n",
    "        \"party_1fileUUID\": \"6ce2807b-65b2-4068-9315-271015e71a02\", \n",
    "        \"party_1encryptKey\": \"nlC8gQHZhDFudS1FFZ/l0URoC2Xd1/zOSpB96S1bwQc=\", \n",
    "        \"party_1verifyKey\": \"ylYWKO2ZIcJKxNi7XNp0BhZ94icmrGOt0QmSMrEglqk=\",\n",
    "        \"party_4fileUUID\": \"8d219572-8f43-4454-a55e-c81bcdee4960\", \n",
    "        \"party_4encryptKey\": \"cucAlsBrvnqjKs5MXwcmafODcJA1pAV2N5iPArlE+5w=\", \n",
    "        \"party_4verifyKey\": \"nZmwYQb3RW2660AV1Q3M6lS3XNFYHbBPRmJJUm8MzrI=\"}\n",
    "\n",
    "myTrain = defineTrain(\"sophia921025/tse:4thtry\", inputData, 1)"
   ]
  },
  {
   "cell_type": "code",
   "execution_count": 43,
   "metadata": {},
   "outputs": [
    {
     "name": "stdout",
     "output_type": "stream",
     "text": [
      "Task submitted with ID: 67\n"
     ]
    }
   ],
   "source": [
    "clientId = 1\n",
    "taskId = requestExecution(signalStation, clientId, myTrain)\n",
    "print(\"Task submitted with ID: %s\" % taskId)"
   ]
  },
  {
   "cell_type": "code",
   "execution_count": 45,
   "metadata": {},
   "outputs": [
    {
     "name": "stdout",
     "output_type": "stream",
     "text": [
      "MSE train data: 1106.017, MSE test data: 1052.849\n",
      "R2 train data: 0.957, R2 test data: 0.957\n"
     ]
    }
   ],
   "source": [
    "results = getExecutionResult(signalStation, clientId, taskId)\n",
    "print(results[0][\"response\"])\n",
    "# result = json.loads(results[0][\"response\"])\n",
    "# print(result)"
   ]
  },
  {
   "cell_type": "code",
   "execution_count": null,
   "metadata": {},
   "outputs": [],
   "source": []
  }
 ],
 "metadata": {
  "kernelspec": {
   "display_name": "Python 3",
   "language": "python",
   "name": "python3"
  },
  "language_info": {
   "codemirror_mode": {
    "name": "ipython",
    "version": 3
   },
   "file_extension": ".py",
   "mimetype": "text/x-python",
   "name": "python",
   "nbconvert_exporter": "python",
   "pygments_lexer": "ipython3",
   "version": "3.6.8"
  }
 },
 "nbformat": 4,
 "nbformat_minor": 2
}
